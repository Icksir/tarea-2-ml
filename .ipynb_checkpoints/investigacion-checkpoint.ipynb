{
 "cells": [
  {
   "cell_type": "markdown",
   "id": "93acaa79",
   "metadata": {},
   "source": [
    "<img src=\"https://www.inf.utfsm.cl/images/slides/Departamento-de-Informtica_HORIZONTAL.png\" title=\"Title text\" width=\"80%\" />\n",
    "\n",
    "<hr style=\"height:2px;border:none\"/>\n",
    "<h1 align='center'> INF-398 Introducción al Aprendizaje Automático I-2024 </h1>\n",
    "\n",
    "<H3 align='center'> Taller 2 - Parte 1 </H3>\n",
    "\n",
    "<H5 align='center'>  </H3>\n",
    "\n",
    "<hr style=\"height:2px;border:none\"/>"
   ]
  },
  {
   "cell_type": "markdown",
   "id": "67958a51",
   "metadata": {},
   "source": [
    "# Pregunta de investigación\n",
    "\n",
    "\"Seleccionar atributos para un problema de clasificación mediante el criterio denominado 𝜒2 resulta más efectivo que hacerlo usando RELIEF.\""
   ]
  },
  {
   "cell_type": "markdown",
   "id": "ca761c1f",
   "metadata": {},
   "source": [
    "# Posición a-priori\n",
    "\n",
    "𝜒2 y RELIEF son métodos con objetivos diferentes, 𝜒2 puede ser mejor en la selección de atributos categóricos, mientras que RELIEF es mejor para trabajar con atributos continuos, por lo que compararlos directamente es complicado."
   ]
  },
  {
   "cell_type": "markdown",
   "id": "2c4f1f9c",
   "metadata": {},
   "source": [
    "# Experimentación\n"
   ]
  },
  {
   "cell_type": "markdown",
   "id": "76ce7fc9-d90e-4804-84a9-4095a00f5188",
   "metadata": {},
   "source": [
    "Para la experimentación se utilizarán 3 datasets reales tomados de kaggle (fuente en cada sección). Los datasets se componen de 2 mixtos (atributos tanto categóricos como continuos) y uno casi completamente categórico.\n",
    "\n",
    "Para hacer la selección de atributos se elegirá como k un valor tomado de \"prueba y error\", viendo desde que cantidad de atributos el clasificador empeora demasiado. Se utilizará el regresor logístico para el entrenamiento en todos los casos."
   ]
  },
  {
   "cell_type": "code",
   "execution_count": 45,
   "id": "9fc1fd63",
   "metadata": {},
   "outputs": [],
   "source": [
    "import pandas as pd\n",
    "from sklearn.feature_selection import SelectKBest, chi2\n",
    "from skrebate import ReliefF\n",
    "import matplotlib.pyplot as plt\n",
    "import seaborn as sns\n",
    "from imblearn.over_sampling import SMOTE\n",
    "\n",
    "import warnings\n",
    "warnings.filterwarnings(\"ignore\")\n",
    "from sklearn.model_selection import cross_val_score"
   ]
  },
  {
   "cell_type": "markdown",
   "id": "0f9bf7a3-2c0c-414e-a89a-8a5ac4c1a77d",
   "metadata": {},
   "source": [
    "## Dataset 1: Heart failure prediction"
   ]
  },
  {
   "cell_type": "code",
   "execution_count": 46,
   "id": "1a8726eb",
   "metadata": {},
   "outputs": [],
   "source": [
    "def show_class_balance(data_df):\n",
    "    colors = ['gold', 'mediumturquoise']\n",
    "    labels = ['0','1']\n",
    "    values = data_df['DEATH_EVENT'].value_counts()/data_df['DEATH_EVENT'].shape[0]\n",
    "    \n",
    "    # Plot histogram\n",
    "    plt.figure(figsize=(6, 4))\n",
    "    ax = sns.countplot(x='DEATH_EVENT', data=data_df, palette='Set1')\n",
    "    plt.xlabel('Death (0: No, 1: Yes)')\n",
    "    plt.ylabel('Count')\n",
    "    plt.title('Class Balance in heart failure Dataset')\n",
    "    \n",
    "    for p, label in zip(ax.patches, values):\n",
    "        height = p.get_height()\n",
    "        ax.text(p.get_x() + p.get_width() / 2, height + 0.5, f'{label:.3f}%', ha='center')\n",
    "    \n",
    "    plt.show()"
   ]
  },
  {
   "cell_type": "code",
   "execution_count": 47,
   "id": "708e4537",
   "metadata": {},
   "outputs": [
    {
     "data": {
      "image/png": "[encoded data removed]",
      "text/plain": [
       "<Figure size 600x400 with 1 Axes>"
      ]
     },
     "metadata": {},
     "output_type": "display_data"
    }
   ],
   "source": [
    "\n",
    "# FUENTE: https://www.kaggle.com/datasets/aadarshvelu/heart-failure-prediction-clinical-records/data\n",
    "# \"dataset is cleaned and has no missing values\"\n",
    "dataset = pd.read_csv('heart_failure_clinical_records.csv')\n",
    "show_class_balance(dataset)"
   ]
  },
  {
   "cell_type": "code",
   "execution_count": 48,
   "id": "2994f966-ab5c-4736-8890-69c4d5cf854d",
   "metadata": {},
   "outputs": [
    {
     "name": "stdout",
     "output_type": "stream",
     "text": [
      "<class 'pandas.core.frame.DataFrame'>\n",
      "RangeIndex: 5000 entries, 0 to 4999\n",
      "Data columns (total 13 columns):\n",
      " #   Column                    Non-Null Count  Dtype  \n",
      "---  ------                    --------------  -----  \n",
      " 0   age                       5000 non-null   float64\n",
      " 1   anaemia                   5000 non-null   int64  \n",
      " 2   creatinine_phosphokinase  5000 non-null   int64  \n",
      " 3   diabetes                  5000 non-null   int64  \n",
      " 4   ejection_fraction         5000 non-null   int64  \n",
      " 5   high_blood_pressure       5000 non-null   int64  \n",
      " 6   platelets                 5000 non-null   float64\n",
      " 7   serum_creatinine          5000 non-null   float64\n",
      " 8   serum_sodium              5000 non-null   int64  \n",
      " 9   sex                       5000 non-null   int64  \n",
      " 10  smoking                   5000 non-null   int64  \n",
      " 11  time                      5000 non-null   int64  \n",
      " 12  DEATH_EVENT               5000 non-null   int64  \n",
      "dtypes: float64(3), int64(10)\n",
      "memory usage: 507.9 KB\n"
     ]
    }
   ],
   "source": [
    "dataset.info()"
   ]
  },
  {
   "cell_type": "code",
   "execution_count": 49,
   "id": "42b2ac95-88de-465e-bd5f-8461012f3cc2",
   "metadata": {},
   "outputs": [],
   "source": [
    "X = dataset.drop(\"DEATH_EVENT\", axis= 1)\n",
    "Y = dataset[\"DEATH_EVENT\"]\n",
    "\n"
   ]
  },
  {
   "cell_type": "markdown",
   "id": "d6c6afb0-d446-45dc-88aa-dda159b413f1",
   "metadata": {},
   "source": [
    "## LR + Chi2"
   ]
  },
  {
   "cell_type": "code",
   "execution_count": 50,
   "id": "cd717e12",
   "metadata": {},
   "outputs": [
    {
     "data": {
      "text/plain": [
       "array([[5.5000000e+01, 7.4800000e+02, 4.5000000e+01, 2.6335803e+05,\n",
       "        1.3000000e+00, 8.8000000e+01],\n",
       "       [6.5000000e+01, 5.6000000e+01, 2.5000000e+01, 3.0500000e+05,\n",
       "        5.0000000e+00, 2.0700000e+02],\n",
       "       [4.5000000e+01, 5.8200000e+02, 3.8000000e+01, 3.1900000e+05,\n",
       "        9.0000000e-01, 2.4400000e+02],\n",
       "       ...,\n",
       "       [9.5000000e+01, 1.1200000e+02, 4.0000000e+01, 1.9600000e+05,\n",
       "        1.0000000e+00, 2.4000000e+01],\n",
       "       [6.5000000e+01, 1.6000000e+02, 2.0000000e+01, 3.2700000e+05,\n",
       "        2.7000000e+00, 8.0000000e+00],\n",
       "       [4.0000000e+01, 2.4400000e+02, 4.5000000e+01, 2.7500000e+05,\n",
       "        9.0000000e-01, 1.7400000e+02]])"
      ]
     },
     "execution_count": 50,
     "metadata": {},
     "output_type": "execute_result"
    }
   ],
   "source": [
    "X_new_chi2 = SelectKBest(chi2, k=6).fit_transform(X, Y)\n",
    "X_new_chi2"
   ]
  },
  {
   "cell_type": "code",
   "execution_count": 59,
   "id": "8621e187",
   "metadata": {},
   "outputs": [
    {
     "name": "stdout",
     "output_type": "stream",
     "text": [
      "              precision    recall  f1-score   support\n",
      "\n",
      "           0       0.86      0.91      0.89      1040\n",
      "           1       0.77      0.66      0.71       460\n",
      "\n",
      "    accuracy                           0.84      1500\n",
      "   macro avg       0.82      0.79      0.80      1500\n",
      "weighted avg       0.83      0.84      0.83      1500\n",
      "\n"
     ]
    }
   ],
   "source": [
    "from sklearn.model_selection import train_test_split\n",
    "from sklearn.linear_model import LogisticRegression\n",
    "from sklearn.metrics import classification_report\n",
    "# División de los datos\n",
    "X_train, X_test, y_train, y_test = train_test_split(X_new_chi2, Y, test_size=0.3, random_state=42)\n",
    "# Entrenamiento del modelo\n",
    "clf = LogisticRegression()\n",
    "clf.fit(X_train, y_train)\n",
    "\n",
    "# Predicción y evaluación\n",
    "print(classification_report(y_test,clf.predict(X_test)))"
   ]
  },
  {
   "cell_type": "code",
   "execution_count": 60,
   "id": "918fb6a0-c4ec-4534-8ca7-6c939734ab0e",
   "metadata": {},
   "outputs": [
    {
     "data": {
      "text/plain": [
       "array([[ 6.15827961e-02,  3.28791182e-04, -7.23533159e-02,\n",
       "         1.81216210e-07,  1.53479230e-02, -1.97599315e-02]])"
      ]
     },
     "execution_count": 60,
     "metadata": {},
     "output_type": "execute_result"
    }
   ],
   "source": [
    "clf.coef_"
   ]
  },
  {
   "cell_type": "markdown",
   "id": "5da36465-5c2d-49a9-ae3c-01fafa9adc50",
   "metadata": {},
   "source": [
    "## LR + RELIEF"
   ]
  },
  {
   "cell_type": "code",
   "execution_count": 56,
   "id": "b248e8aa",
   "metadata": {},
   "outputs": [],
   "source": [
    "# Selección de atributos mediante RELIEF\n",
    "relief = ReliefF(n_features_to_select=6)\n",
    "X_new_relief = relief.fit_transform(X.values, Y.values)"
   ]
  },
  {
   "cell_type": "code",
   "execution_count": 57,
   "id": "cf7c0d6e",
   "metadata": {},
   "outputs": [
    {
     "data": {
      "text/plain": [
       "array([[8.8000000e+01, 4.5000000e+01, 1.3700000e+02, 1.3000000e+00,\n",
       "        5.5000000e+01, 2.6335803e+05],\n",
       "       [2.0700000e+02, 2.5000000e+01, 1.3000000e+02, 5.0000000e+00,\n",
       "        6.5000000e+01, 3.0500000e+05],\n",
       "       [2.4400000e+02, 3.8000000e+01, 1.4000000e+02, 9.0000000e-01,\n",
       "        4.5000000e+01, 3.1900000e+05],\n",
       "       ...,\n",
       "       [2.4000000e+01, 4.0000000e+01, 1.3800000e+02, 1.0000000e+00,\n",
       "        9.5000000e+01, 1.9600000e+05],\n",
       "       [8.0000000e+00, 2.0000000e+01, 1.1600000e+02, 2.7000000e+00,\n",
       "        6.5000000e+01, 3.2700000e+05],\n",
       "       [1.7400000e+02, 4.5000000e+01, 1.4000000e+02, 9.0000000e-01,\n",
       "        4.0000000e+01, 2.7500000e+05]])"
      ]
     },
     "execution_count": 57,
     "metadata": {},
     "output_type": "execute_result"
    }
   ],
   "source": [
    "X_new_relief"
   ]
  },
  {
   "cell_type": "code",
   "execution_count": 58,
   "id": "f000dc15",
   "metadata": {},
   "outputs": [
    {
     "name": "stdout",
     "output_type": "stream",
     "text": [
      "              precision    recall  f1-score   support\n",
      "\n",
      "           0       0.87      0.90      0.88      1040\n",
      "           1       0.75      0.69      0.72       460\n",
      "\n",
      "    accuracy                           0.84      1500\n",
      "   macro avg       0.81      0.80      0.80      1500\n",
      "weighted avg       0.83      0.84      0.83      1500\n",
      "\n"
     ]
    }
   ],
   "source": [
    "from sklearn.model_selection import train_test_split\n",
    "from sklearn.linear_model import LogisticRegression\n",
    "from sklearn.metrics import classification_report\n",
    "# División de los datos\n",
    "X_train, X_test, y_train, y_test = train_test_split(X_new_relief, Y, test_size=0.3, random_state=42)\n",
    "# Entrenamiento del modelo\n",
    "clf = LogisticRegression()\n",
    "clf.fit(X_train, y_train)\n",
    "\n",
    "# Predicción y evaluación\n",
    "print(classification_report(y_test,clf.predict(X_test)))"
   ]
  },
  {
   "cell_type": "code",
   "execution_count": 55,
   "id": "ab49ce1f-5ad9-4ffb-b0c4-64eba5d028ff",
   "metadata": {},
   "outputs": [
    {
     "data": {
      "text/plain": [
       "array([[-1.97436016e-02, -7.52389429e-02,  5.88497934e-03,\n",
       "         1.72669937e-02,  5.53633806e-02, -8.46563716e-08]])"
      ]
     },
     "execution_count": 55,
     "metadata": {},
     "output_type": "execute_result"
    }
   ],
   "source": [
    "clf.coef_"
   ]
  },
  {
   "cell_type": "markdown",
   "id": "251e2517",
   "metadata": {},
   "source": [
    "## Dataset 2: Enfermedad de tiroides"
   ]
  },
  {
   "cell_type": "code",
   "execution_count": 61,
   "id": "95109d26",
   "metadata": {},
   "outputs": [],
   "source": [
    "from sklearn.preprocessing import MinMaxScaler"
   ]
  },
  {
   "cell_type": "code",
   "execution_count": 62,
   "id": "b78f8dd1",
   "metadata": {},
   "outputs": [],
   "source": [
    "def show_class_balance(data_df):\n",
    "    colors = ['gold', 'mediumturquoise']\n",
    "    labels = ['0','1']\n",
    "    values = data_df['Recurred'].value_counts()/data_df['Recurred'].shape[0]\n",
    "    \n",
    "    # Plot histogram\n",
    "    plt.figure(figsize=(6, 4))\n",
    "    ax = sns.countplot(x='Recurred', data=data_df, palette='Set1')\n",
    "    plt.xlabel('Recurred (0: No, 1: Yes)')\n",
    "    plt.ylabel('Count')\n",
    "    plt.title('Class Balance in thyroid disease dataset')\n",
    "    \n",
    "    for p, label in zip(ax.patches, values):\n",
    "        height = p.get_height()\n",
    "        ax.text(p.get_x() + p.get_width() / 2, height + 0.5, f'{label:.3f}%', ha='center')\n",
    "    \n",
    "    plt.show()"
   ]
  },
  {
   "cell_type": "code",
   "execution_count": 63,
   "id": "35f1f66c",
   "metadata": {},
   "outputs": [
    {
     "data": {
      "text/html": [
       "<div>\n",
       "<style scoped>\n",
       "    .dataframe tbody tr th:only-of-type {\n",
       "        vertical-align: middle;\n",
       "    }\n",
       "\n",
       "    .dataframe tbody tr th {\n",
       "        vertical-align: top;\n",
       "    }\n",
       "\n",
       "    .dataframe thead th {\n",
       "        text-align: right;\n",
       "    }\n",
       "</style>\n",
       "<table border=\"1\" class=\"dataframe\">\n",
       "  <thead>\n",
       "    <tr style=\"text-align: right;\">\n",
       "      <th></th>\n",
       "      <th>Age</th>\n",
       "      <th>Gender</th>\n",
       "      <th>Smoking</th>\n",
       "      <th>Hx Smoking</th>\n",
       "      <th>Hx Radiothreapy</th>\n",
       "      <th>Thyroid Function</th>\n",
       "      <th>Physical Examination</th>\n",
       "      <th>Adenopathy</th>\n",
       "      <th>Pathology</th>\n",
       "      <th>Focality</th>\n",
       "      <th>Risk</th>\n",
       "      <th>T</th>\n",
       "      <th>N</th>\n",
       "      <th>M</th>\n",
       "      <th>Stage</th>\n",
       "      <th>Response</th>\n",
       "      <th>Recurred</th>\n",
       "    </tr>\n",
       "  </thead>\n",
       "  <tbody>\n",
       "    <tr>\n",
       "      <th>0</th>\n",
       "      <td>27</td>\n",
       "      <td>F</td>\n",
       "      <td>No</td>\n",
       "      <td>No</td>\n",
       "      <td>No</td>\n",
       "      <td>Euthyroid</td>\n",
       "      <td>Single nodular goiter-left</td>\n",
       "      <td>No</td>\n",
       "      <td>Micropapillary</td>\n",
       "      <td>Uni-Focal</td>\n",
       "      <td>Low</td>\n",
       "      <td>T1a</td>\n",
       "      <td>N0</td>\n",
       "      <td>M0</td>\n",
       "      <td>I</td>\n",
       "      <td>Indeterminate</td>\n",
       "      <td>No</td>\n",
       "    </tr>\n",
       "    <tr>\n",
       "      <th>1</th>\n",
       "      <td>34</td>\n",
       "      <td>F</td>\n",
       "      <td>No</td>\n",
       "      <td>Yes</td>\n",
       "      <td>No</td>\n",
       "      <td>Euthyroid</td>\n",
       "      <td>Multinodular goiter</td>\n",
       "      <td>No</td>\n",
       "      <td>Micropapillary</td>\n",
       "      <td>Uni-Focal</td>\n",
       "      <td>Low</td>\n",
       "      <td>T1a</td>\n",
       "      <td>N0</td>\n",
       "      <td>M0</td>\n",
       "      <td>I</td>\n",
       "      <td>Excellent</td>\n",
       "      <td>No</td>\n",
       "    </tr>\n",
       "    <tr>\n",
       "      <th>2</th>\n",
       "      <td>30</td>\n",
       "      <td>F</td>\n",
       "      <td>No</td>\n",
       "      <td>No</td>\n",
       "      <td>No</td>\n",
       "      <td>Euthyroid</td>\n",
       "      <td>Single nodular goiter-right</td>\n",
       "      <td>No</td>\n",
       "      <td>Micropapillary</td>\n",
       "      <td>Uni-Focal</td>\n",
       "      <td>Low</td>\n",
       "      <td>T1a</td>\n",
       "      <td>N0</td>\n",
       "      <td>M0</td>\n",
       "      <td>I</td>\n",
       "      <td>Excellent</td>\n",
       "      <td>No</td>\n",
       "    </tr>\n",
       "    <tr>\n",
       "      <th>3</th>\n",
       "      <td>62</td>\n",
       "      <td>F</td>\n",
       "      <td>No</td>\n",
       "      <td>No</td>\n",
       "      <td>No</td>\n",
       "      <td>Euthyroid</td>\n",
       "      <td>Single nodular goiter-right</td>\n",
       "      <td>No</td>\n",
       "      <td>Micropapillary</td>\n",
       "      <td>Uni-Focal</td>\n",
       "      <td>Low</td>\n",
       "      <td>T1a</td>\n",
       "      <td>N0</td>\n",
       "      <td>M0</td>\n",
       "      <td>I</td>\n",
       "      <td>Excellent</td>\n",
       "      <td>No</td>\n",
       "    </tr>\n",
       "    <tr>\n",
       "      <th>4</th>\n",
       "      <td>62</td>\n",
       "      <td>F</td>\n",
       "      <td>No</td>\n",
       "      <td>No</td>\n",
       "      <td>No</td>\n",
       "      <td>Euthyroid</td>\n",
       "      <td>Multinodular goiter</td>\n",
       "      <td>No</td>\n",
       "      <td>Micropapillary</td>\n",
       "      <td>Multi-Focal</td>\n",
       "      <td>Low</td>\n",
       "      <td>T1a</td>\n",
       "      <td>N0</td>\n",
       "      <td>M0</td>\n",
       "      <td>I</td>\n",
       "      <td>Excellent</td>\n",
       "      <td>No</td>\n",
       "    </tr>\n",
       "  </tbody>\n",
       "</table>\n",
       "</div>"
      ],
      "text/plain": [
       "   Age Gender Smoking Hx Smoking Hx Radiothreapy Thyroid Function  \\\n",
       "0   27      F      No         No              No        Euthyroid   \n",
       "1   34      F      No        Yes              No        Euthyroid   \n",
       "2   30      F      No         No              No        Euthyroid   \n",
       "3   62      F      No         No              No        Euthyroid   \n",
       "4   62      F      No         No              No        Euthyroid   \n",
       "\n",
       "          Physical Examination Adenopathy       Pathology     Focality Risk  \\\n",
       "0   Single nodular goiter-left         No  Micropapillary    Uni-Focal  Low   \n",
       "1          Multinodular goiter         No  Micropapillary    Uni-Focal  Low   \n",
       "2  Single nodular goiter-right         No  Micropapillary    Uni-Focal  Low   \n",
       "3  Single nodular goiter-right         No  Micropapillary    Uni-Focal  Low   \n",
       "4          Multinodular goiter         No  Micropapillary  Multi-Focal  Low   \n",
       "\n",
       "     T   N   M Stage       Response Recurred  \n",
       "0  T1a  N0  M0     I  Indeterminate       No  \n",
       "1  T1a  N0  M0     I      Excellent       No  \n",
       "2  T1a  N0  M0     I      Excellent       No  \n",
       "3  T1a  N0  M0     I      Excellent       No  \n",
       "4  T1a  N0  M0     I      Excellent       No  "
      ]
     },
     "execution_count": 63,
     "metadata": {},
     "output_type": "execute_result"
    }
   ],
   "source": [
    "# FUENTE: https://www.kaggle.com/datasets/jainaru/thyroid-disease-data/data\n",
    "data=pd.read_csv('Thyroid_Diff.csv')\n",
    "data.head()"
   ]
  },
  {
   "cell_type": "code",
   "execution_count": 64,
   "id": "1fe4d91a",
   "metadata": {},
   "outputs": [
    {
     "data": {
      "image/png": "[encoded data removed]",
      "text/plain": [
       "<Figure size 600x400 with 1 Axes>"
      ]
     },
     "metadata": {},
     "output_type": "display_data"
    }
   ],
   "source": [
    "show_class_balance(data)"
   ]
  },
  {
   "cell_type": "code",
   "execution_count": 65,
   "id": "ed81be12-be9c-414e-be2f-a10a952fc5aa",
   "metadata": {},
   "outputs": [
    {
     "name": "stdout",
     "output_type": "stream",
     "text": [
      "<class 'pandas.core.frame.DataFrame'>\n",
      "RangeIndex: 383 entries, 0 to 382\n",
      "Data columns (total 17 columns):\n",
      " #   Column                Non-Null Count  Dtype \n",
      "---  ------                --------------  ----- \n",
      " 0   Age                   383 non-null    int64 \n",
      " 1   Gender                383 non-null    object\n",
      " 2   Smoking               383 non-null    object\n",
      " 3   Hx Smoking            383 non-null    object\n",
      " 4   Hx Radiothreapy       383 non-null    object\n",
      " 5   Thyroid Function      383 non-null    object\n",
      " 6   Physical Examination  383 non-null    object\n",
      " 7   Adenopathy            383 non-null    object\n",
      " 8   Pathology             383 non-null    object\n",
      " 9   Focality              383 non-null    object\n",
      " 10  Risk                  383 non-null    object\n",
      " 11  T                     383 non-null    object\n",
      " 12  N                     383 non-null    object\n",
      " 13  M                     383 non-null    object\n",
      " 14  Stage                 383 non-null    object\n",
      " 15  Response              383 non-null    object\n",
      " 16  Recurred              383 non-null    object\n",
      "dtypes: int64(1), object(16)\n",
      "memory usage: 51.0+ KB\n"
     ]
    }
   ],
   "source": [
    "data.info()"
   ]
  },
  {
   "cell_type": "markdown",
   "id": "38b9911c-2eda-4af5-9e33-d519f2aaeddb",
   "metadata": {},
   "source": [
    "Como vemos en la celda anterior, la mayoría de los atributos son categóricos a excepción de la edad. Por lo tanto, se tomó código de [este](https://www.kaggle.com/code/jainaru/eda-visualization-and-100-prediction-xgboost?scriptVersionId=177484282&cellId=25) approach para procesar los datos y hacerlo compatible directamente con el regresor lógistico, con pequeñas adaptaciones."
   ]
  },
  {
   "cell_type": "code",
   "execution_count": 66,
   "id": "d676cfc3",
   "metadata": {},
   "outputs": [],
   "source": [
    "def data_preprocessing(df):\n",
    "    scaler = MinMaxScaler()\n",
    "    df.drop_duplicates(inplace=True)\n",
    "    df['Recurred']=[0 if result=='No' else 1 for result in df['Recurred']]\n",
    "    df[['Age']] = scaler.fit_transform(df[['Age']])\n",
    "    categorical_features = list(df.keys())[1:]\n",
    "    y = df['Recurred']\n",
    "    for feature in categorical_features:\n",
    "        df[feature] = pd.factorize(df[feature])[0]\n",
    "    X = df.drop('Recurred', axis=1)\n",
    "    return y, X"
   ]
  },
  {
   "cell_type": "code",
   "execution_count": 67,
   "id": "2fd6ff47",
   "metadata": {},
   "outputs": [],
   "source": [
    "y, X = data_preprocessing(data)"
   ]
  },
  {
   "cell_type": "markdown",
   "id": "08ce84ab",
   "metadata": {},
   "source": [
    "## LR + Chi^2"
   ]
  },
  {
   "cell_type": "code",
   "execution_count": 90,
   "id": "0934eacc",
   "metadata": {},
   "outputs": [
    {
     "data": {
      "text/plain": [
       "array([[9.480e+02, 4.800e+01, 0.000e+00, ..., 4.770e+02, 5.660e+02,\n",
       "        3.240e+02],\n",
       "       [1.002e+03, 6.100e+01, 1.000e+00, ..., 2.180e+02, 3.920e+02,\n",
       "        5.640e+02],\n",
       "       [9.610e+02, 4.500e+01, 1.000e+00, ..., 2.740e+02, 2.063e+03,\n",
       "        1.893e+03],\n",
       "       ...,\n",
       "       [1.104e+03, 5.300e+01, 1.000e+00, ..., 3.640e+02, 1.391e+03,\n",
       "        1.041e+03],\n",
       "       [4.650e+02, 1.400e+01, 0.000e+00, ..., 1.690e+02, 9.990e+02,\n",
       "        1.838e+03],\n",
       "       [1.045e+03, 4.500e+01, 0.000e+00, ..., 9.300e+02, 8.850e+02,\n",
       "        5.260e+02]])"
      ]
     },
     "execution_count": 90,
     "metadata": {},
     "output_type": "execute_result"
    }
   ],
   "source": [
    "X_new_chi2 = SelectKBest(chi2, k=10).fit_transform(X, y)\n",
    "X_new_chi2"
   ]
  },
  {
   "cell_type": "code",
   "execution_count": 91,
   "id": "31627e8a",
   "metadata": {},
   "outputs": [
    {
     "name": "stdout",
     "output_type": "stream",
     "text": [
      "              precision    recall  f1-score   support\n",
      "\n",
      "           0       0.85      0.94      0.89       327\n",
      "           1       0.69      0.46      0.55       101\n",
      "\n",
      "    accuracy                           0.82       428\n",
      "   macro avg       0.77      0.70      0.72       428\n",
      "weighted avg       0.81      0.82      0.81       428\n",
      "\n"
     ]
    }
   ],
   "source": [
    "from sklearn.model_selection import train_test_split\n",
    "from sklearn.linear_model import LogisticRegression\n",
    "from sklearn.metrics import classification_report\n",
    "# División de los datos\n",
    "X_train, X_test, y_train, y_test = train_test_split(X_new_chi2, y, test_size=0.2, random_state=42)\n",
    "# Entrenamiento del modelo\n",
    "clf = LogisticRegression()\n",
    "clf.fit(X_train, y_train)\n",
    "# Predicción y evaluación\n",
    "print(classification_report(y_test,clf.predict(X_test)))"
   ]
  },
  {
   "cell_type": "markdown",
   "id": "c21a9c7f",
   "metadata": {},
   "source": [
    "## LR + RELIEF"
   ]
  },
  {
   "cell_type": "code",
   "execution_count": 92,
   "id": "f9d9a0b4",
   "metadata": {},
   "outputs": [],
   "source": [
    "# Selección de atributos mediante RELIEF\n",
    "relief = ReliefF(n_features_to_select=10)\n",
    "X_new_relief = relief.fit_transform(X.values, y.values)\n"
   ]
  },
  {
   "cell_type": "code",
   "execution_count": 93,
   "id": "a931d92c",
   "metadata": {},
   "outputs": [
    {
     "name": "stdout",
     "output_type": "stream",
     "text": [
      "              precision    recall  f1-score   support\n",
      "\n",
      "           0       0.87      0.94      0.90       327\n",
      "           1       0.75      0.52      0.62       101\n",
      "\n",
      "    accuracy                           0.85       428\n",
      "   macro avg       0.81      0.73      0.76       428\n",
      "weighted avg       0.84      0.85      0.84       428\n",
      "\n"
     ]
    }
   ],
   "source": [
    "from sklearn.model_selection import train_test_split\n",
    "from sklearn.linear_model import LogisticRegression\n",
    "from sklearn.metrics import classification_report\n",
    "# División de los datos\n",
    "X_train, X_test, y_train, y_test = train_test_split(X_new_relief, y, test_size=0.2, random_state=42)\n",
    "# Entrenamiento del modelo\n",
    "clf = LogisticRegression()\n",
    "#cross_val_score(clf, X_new_relief, y, cv=5)\n",
    "clf.fit(X_train, y_train)\n",
    "\n",
    "# Predicción y evaluación\n",
    "print(classification_report(y_test,clf.predict(X_test)))\n"
   ]
  },
  {
   "cell_type": "markdown",
   "id": "fe7bda55",
   "metadata": {},
   "source": [
    "## Dataset 3: AIDS virus infection\n"
   ]
  },
  {
   "cell_type": "code",
   "execution_count": 72,
   "id": "94e18afe",
   "metadata": {},
   "outputs": [
    {
     "name": "stdout",
     "output_type": "stream",
     "text": [
      "<class 'pandas.core.frame.DataFrame'>\n",
      "RangeIndex: 2139 entries, 0 to 2138\n",
      "Data columns (total 23 columns):\n",
      " #   Column    Non-Null Count  Dtype  \n",
      "---  ------    --------------  -----  \n",
      " 0   time      2139 non-null   int64  \n",
      " 1   trt       2139 non-null   int64  \n",
      " 2   age       2139 non-null   int64  \n",
      " 3   wtkg      2139 non-null   float64\n",
      " 4   hemo      2139 non-null   int64  \n",
      " 5   homo      2139 non-null   int64  \n",
      " 6   drugs     2139 non-null   int64  \n",
      " 7   karnof    2139 non-null   int64  \n",
      " 8   oprior    2139 non-null   int64  \n",
      " 9   z30       2139 non-null   int64  \n",
      " 10  preanti   2139 non-null   int64  \n",
      " 11  race      2139 non-null   int64  \n",
      " 12  gender    2139 non-null   int64  \n",
      " 13  str2      2139 non-null   int64  \n",
      " 14  strat     2139 non-null   int64  \n",
      " 15  symptom   2139 non-null   int64  \n",
      " 16  treat     2139 non-null   int64  \n",
      " 17  offtrt    2139 non-null   int64  \n",
      " 18  cd40      2139 non-null   int64  \n",
      " 19  cd420     2139 non-null   int64  \n",
      " 20  cd80      2139 non-null   int64  \n",
      " 21  cd820     2139 non-null   int64  \n",
      " 22  infected  2139 non-null   int64  \n",
      "dtypes: float64(1), int64(22)\n",
      "memory usage: 384.5 KB\n"
     ]
    }
   ],
   "source": [
    "#FUENTE: https://www.kaggle.com/datasets/aadarshvelu/aids-virus-infection-prediction\n",
    "\n",
    "data3=pd.read_csv('AIDS_Classification.csv')\n",
    "data3.info()"
   ]
  },
  {
   "cell_type": "code",
   "execution_count": 73,
   "id": "37fc5b81-aac0-492d-8bbe-3696a92b7151",
   "metadata": {},
   "outputs": [
    {
     "data": {
      "text/html": [
       "<div>\n",
       "<style scoped>\n",
       "    .dataframe tbody tr th:only-of-type {\n",
       "        vertical-align: middle;\n",
       "    }\n",
       "\n",
       "    .dataframe tbody tr th {\n",
       "        vertical-align: top;\n",
       "    }\n",
       "\n",
       "    .dataframe thead th {\n",
       "        text-align: right;\n",
       "    }\n",
       "</style>\n",
       "<table border=\"1\" class=\"dataframe\">\n",
       "  <thead>\n",
       "    <tr style=\"text-align: right;\">\n",
       "      <th></th>\n",
       "      <th>time</th>\n",
       "      <th>trt</th>\n",
       "      <th>age</th>\n",
       "      <th>wtkg</th>\n",
       "      <th>hemo</th>\n",
       "      <th>homo</th>\n",
       "      <th>drugs</th>\n",
       "      <th>karnof</th>\n",
       "      <th>oprior</th>\n",
       "      <th>z30</th>\n",
       "      <th>...</th>\n",
       "      <th>str2</th>\n",
       "      <th>strat</th>\n",
       "      <th>symptom</th>\n",
       "      <th>treat</th>\n",
       "      <th>offtrt</th>\n",
       "      <th>cd40</th>\n",
       "      <th>cd420</th>\n",
       "      <th>cd80</th>\n",
       "      <th>cd820</th>\n",
       "      <th>infected</th>\n",
       "    </tr>\n",
       "  </thead>\n",
       "  <tbody>\n",
       "    <tr>\n",
       "      <th>0</th>\n",
       "      <td>948</td>\n",
       "      <td>2</td>\n",
       "      <td>48</td>\n",
       "      <td>89.8128</td>\n",
       "      <td>0</td>\n",
       "      <td>0</td>\n",
       "      <td>0</td>\n",
       "      <td>100</td>\n",
       "      <td>0</td>\n",
       "      <td>0</td>\n",
       "      <td>...</td>\n",
       "      <td>0</td>\n",
       "      <td>1</td>\n",
       "      <td>0</td>\n",
       "      <td>1</td>\n",
       "      <td>0</td>\n",
       "      <td>422</td>\n",
       "      <td>477</td>\n",
       "      <td>566</td>\n",
       "      <td>324</td>\n",
       "      <td>0</td>\n",
       "    </tr>\n",
       "    <tr>\n",
       "      <th>1</th>\n",
       "      <td>1002</td>\n",
       "      <td>3</td>\n",
       "      <td>61</td>\n",
       "      <td>49.4424</td>\n",
       "      <td>0</td>\n",
       "      <td>0</td>\n",
       "      <td>0</td>\n",
       "      <td>90</td>\n",
       "      <td>0</td>\n",
       "      <td>1</td>\n",
       "      <td>...</td>\n",
       "      <td>1</td>\n",
       "      <td>3</td>\n",
       "      <td>0</td>\n",
       "      <td>1</td>\n",
       "      <td>0</td>\n",
       "      <td>162</td>\n",
       "      <td>218</td>\n",
       "      <td>392</td>\n",
       "      <td>564</td>\n",
       "      <td>1</td>\n",
       "    </tr>\n",
       "    <tr>\n",
       "      <th>2</th>\n",
       "      <td>961</td>\n",
       "      <td>3</td>\n",
       "      <td>45</td>\n",
       "      <td>88.4520</td>\n",
       "      <td>0</td>\n",
       "      <td>1</td>\n",
       "      <td>1</td>\n",
       "      <td>90</td>\n",
       "      <td>0</td>\n",
       "      <td>1</td>\n",
       "      <td>...</td>\n",
       "      <td>1</td>\n",
       "      <td>3</td>\n",
       "      <td>0</td>\n",
       "      <td>1</td>\n",
       "      <td>1</td>\n",
       "      <td>326</td>\n",
       "      <td>274</td>\n",
       "      <td>2063</td>\n",
       "      <td>1893</td>\n",
       "      <td>0</td>\n",
       "    </tr>\n",
       "    <tr>\n",
       "      <th>3</th>\n",
       "      <td>1166</td>\n",
       "      <td>3</td>\n",
       "      <td>47</td>\n",
       "      <td>85.2768</td>\n",
       "      <td>0</td>\n",
       "      <td>1</td>\n",
       "      <td>0</td>\n",
       "      <td>100</td>\n",
       "      <td>0</td>\n",
       "      <td>1</td>\n",
       "      <td>...</td>\n",
       "      <td>1</td>\n",
       "      <td>3</td>\n",
       "      <td>0</td>\n",
       "      <td>1</td>\n",
       "      <td>0</td>\n",
       "      <td>287</td>\n",
       "      <td>394</td>\n",
       "      <td>1590</td>\n",
       "      <td>966</td>\n",
       "      <td>0</td>\n",
       "    </tr>\n",
       "    <tr>\n",
       "      <th>4</th>\n",
       "      <td>1090</td>\n",
       "      <td>0</td>\n",
       "      <td>43</td>\n",
       "      <td>66.6792</td>\n",
       "      <td>0</td>\n",
       "      <td>1</td>\n",
       "      <td>0</td>\n",
       "      <td>100</td>\n",
       "      <td>0</td>\n",
       "      <td>1</td>\n",
       "      <td>...</td>\n",
       "      <td>1</td>\n",
       "      <td>3</td>\n",
       "      <td>0</td>\n",
       "      <td>0</td>\n",
       "      <td>0</td>\n",
       "      <td>504</td>\n",
       "      <td>353</td>\n",
       "      <td>870</td>\n",
       "      <td>782</td>\n",
       "      <td>0</td>\n",
       "    </tr>\n",
       "    <tr>\n",
       "      <th>...</th>\n",
       "      <td>...</td>\n",
       "      <td>...</td>\n",
       "      <td>...</td>\n",
       "      <td>...</td>\n",
       "      <td>...</td>\n",
       "      <td>...</td>\n",
       "      <td>...</td>\n",
       "      <td>...</td>\n",
       "      <td>...</td>\n",
       "      <td>...</td>\n",
       "      <td>...</td>\n",
       "      <td>...</td>\n",
       "      <td>...</td>\n",
       "      <td>...</td>\n",
       "      <td>...</td>\n",
       "      <td>...</td>\n",
       "      <td>...</td>\n",
       "      <td>...</td>\n",
       "      <td>...</td>\n",
       "      <td>...</td>\n",
       "      <td>...</td>\n",
       "    </tr>\n",
       "    <tr>\n",
       "      <th>2134</th>\n",
       "      <td>1091</td>\n",
       "      <td>3</td>\n",
       "      <td>21</td>\n",
       "      <td>53.2980</td>\n",
       "      <td>1</td>\n",
       "      <td>0</td>\n",
       "      <td>0</td>\n",
       "      <td>100</td>\n",
       "      <td>0</td>\n",
       "      <td>1</td>\n",
       "      <td>...</td>\n",
       "      <td>1</td>\n",
       "      <td>3</td>\n",
       "      <td>0</td>\n",
       "      <td>1</td>\n",
       "      <td>1</td>\n",
       "      <td>152</td>\n",
       "      <td>109</td>\n",
       "      <td>561</td>\n",
       "      <td>720</td>\n",
       "      <td>0</td>\n",
       "    </tr>\n",
       "    <tr>\n",
       "      <th>2135</th>\n",
       "      <td>395</td>\n",
       "      <td>0</td>\n",
       "      <td>17</td>\n",
       "      <td>102.9672</td>\n",
       "      <td>1</td>\n",
       "      <td>0</td>\n",
       "      <td>0</td>\n",
       "      <td>100</td>\n",
       "      <td>0</td>\n",
       "      <td>1</td>\n",
       "      <td>...</td>\n",
       "      <td>1</td>\n",
       "      <td>3</td>\n",
       "      <td>0</td>\n",
       "      <td>0</td>\n",
       "      <td>1</td>\n",
       "      <td>373</td>\n",
       "      <td>218</td>\n",
       "      <td>1759</td>\n",
       "      <td>1030</td>\n",
       "      <td>0</td>\n",
       "    </tr>\n",
       "    <tr>\n",
       "      <th>2136</th>\n",
       "      <td>1104</td>\n",
       "      <td>2</td>\n",
       "      <td>53</td>\n",
       "      <td>69.8544</td>\n",
       "      <td>1</td>\n",
       "      <td>1</td>\n",
       "      <td>0</td>\n",
       "      <td>90</td>\n",
       "      <td>0</td>\n",
       "      <td>1</td>\n",
       "      <td>...</td>\n",
       "      <td>1</td>\n",
       "      <td>3</td>\n",
       "      <td>0</td>\n",
       "      <td>1</td>\n",
       "      <td>0</td>\n",
       "      <td>419</td>\n",
       "      <td>364</td>\n",
       "      <td>1391</td>\n",
       "      <td>1041</td>\n",
       "      <td>0</td>\n",
       "    </tr>\n",
       "    <tr>\n",
       "      <th>2137</th>\n",
       "      <td>465</td>\n",
       "      <td>0</td>\n",
       "      <td>14</td>\n",
       "      <td>60.0000</td>\n",
       "      <td>1</td>\n",
       "      <td>0</td>\n",
       "      <td>0</td>\n",
       "      <td>100</td>\n",
       "      <td>0</td>\n",
       "      <td>0</td>\n",
       "      <td>...</td>\n",
       "      <td>0</td>\n",
       "      <td>1</td>\n",
       "      <td>0</td>\n",
       "      <td>0</td>\n",
       "      <td>0</td>\n",
       "      <td>166</td>\n",
       "      <td>169</td>\n",
       "      <td>999</td>\n",
       "      <td>1838</td>\n",
       "      <td>1</td>\n",
       "    </tr>\n",
       "    <tr>\n",
       "      <th>2138</th>\n",
       "      <td>1045</td>\n",
       "      <td>3</td>\n",
       "      <td>45</td>\n",
       "      <td>77.3000</td>\n",
       "      <td>1</td>\n",
       "      <td>0</td>\n",
       "      <td>0</td>\n",
       "      <td>100</td>\n",
       "      <td>0</td>\n",
       "      <td>0</td>\n",
       "      <td>...</td>\n",
       "      <td>0</td>\n",
       "      <td>1</td>\n",
       "      <td>0</td>\n",
       "      <td>1</td>\n",
       "      <td>0</td>\n",
       "      <td>911</td>\n",
       "      <td>930</td>\n",
       "      <td>885</td>\n",
       "      <td>526</td>\n",
       "      <td>0</td>\n",
       "    </tr>\n",
       "  </tbody>\n",
       "</table>\n",
       "<p>2139 rows × 23 columns</p>\n",
       "</div>"
      ],
      "text/plain": [
       "      time  trt  age      wtkg  hemo  homo  drugs  karnof  oprior  z30  ...  \\\n",
       "0      948    2   48   89.8128     0     0      0     100       0    0  ...   \n",
       "1     1002    3   61   49.4424     0     0      0      90       0    1  ...   \n",
       "2      961    3   45   88.4520     0     1      1      90       0    1  ...   \n",
       "3     1166    3   47   85.2768     0     1      0     100       0    1  ...   \n",
       "4     1090    0   43   66.6792     0     1      0     100       0    1  ...   \n",
       "...    ...  ...  ...       ...   ...   ...    ...     ...     ...  ...  ...   \n",
       "2134  1091    3   21   53.2980     1     0      0     100       0    1  ...   \n",
       "2135   395    0   17  102.9672     1     0      0     100       0    1  ...   \n",
       "2136  1104    2   53   69.8544     1     1      0      90       0    1  ...   \n",
       "2137   465    0   14   60.0000     1     0      0     100       0    0  ...   \n",
       "2138  1045    3   45   77.3000     1     0      0     100       0    0  ...   \n",
       "\n",
       "      str2  strat  symptom  treat  offtrt  cd40  cd420  cd80  cd820  infected  \n",
       "0        0      1        0      1       0   422    477   566    324         0  \n",
       "1        1      3        0      1       0   162    218   392    564         1  \n",
       "2        1      3        0      1       1   326    274  2063   1893         0  \n",
       "3        1      3        0      1       0   287    394  1590    966         0  \n",
       "4        1      3        0      0       0   504    353   870    782         0  \n",
       "...    ...    ...      ...    ...     ...   ...    ...   ...    ...       ...  \n",
       "2134     1      3        0      1       1   152    109   561    720         0  \n",
       "2135     1      3        0      0       1   373    218  1759   1030         0  \n",
       "2136     1      3        0      1       0   419    364  1391   1041         0  \n",
       "2137     0      1        0      0       0   166    169   999   1838         1  \n",
       "2138     0      1        0      1       0   911    930   885    526         0  \n",
       "\n",
       "[2139 rows x 23 columns]"
      ]
     },
     "execution_count": 73,
     "metadata": {},
     "output_type": "execute_result"
    }
   ],
   "source": [
    "data3"
   ]
  },
  {
   "cell_type": "code",
   "execution_count": 74,
   "id": "4a58dd28",
   "metadata": {},
   "outputs": [],
   "source": [
    "X=data3.drop([\"infected\"],axis=1)\n",
    "y=data3[\"infected\"]"
   ]
  },
  {
   "cell_type": "code",
   "execution_count": 75,
   "id": "9b7531ed",
   "metadata": {},
   "outputs": [],
   "source": [
    "def show_class_balance(data_df):\n",
    "    colors = ['gold', 'mediumturquoise']\n",
    "    labels = ['0','1']\n",
    "    values = data_df['infected'].value_counts()/data_df['infected'].shape[0]\n",
    "    \n",
    "    # Plot histogram\n",
    "    plt.figure(figsize=(6, 4))\n",
    "    ax = sns.countplot(x='infected', data=data_df, palette='Set1')\n",
    "    plt.xlabel('infected (0: No, 1: Yes)')\n",
    "    plt.ylabel('Count')\n",
    "    plt.title('Class Balance in AIDS infected dataset')\n",
    "    \n",
    "    for p, label in zip(ax.patches, values):\n",
    "        height = p.get_height()\n",
    "        ax.text(p.get_x() + p.get_width() / 2, height + 0.5, f'{label:.3f}%', ha='center')\n",
    "    \n",
    "    plt.show()"
   ]
  },
  {
   "cell_type": "code",
   "execution_count": 76,
   "id": "7b057959",
   "metadata": {},
   "outputs": [
    {
     "data": {
      "image/png": "[encoded data removed]",
      "text/plain": [
       "<Figure size 600x400 with 1 Axes>"
      ]
     },
     "metadata": {},
     "output_type": "display_data"
    }
   ],
   "source": [
    "show_class_balance(data3)"
   ]
  },
  {
   "cell_type": "markdown",
   "id": "8c838367-fef6-464a-aada-bf1b47f9c81a",
   "metadata": {},
   "source": [
    "Como se encontró un desbalance demasiado alto, se optó por utilizar SMOTE para hacer el balanceo de clases."
   ]
  },
  {
   "cell_type": "markdown",
   "id": "1e8d9e20",
   "metadata": {},
   "source": [
    "## LR + Chi^2 + SMOTE"
   ]
  },
  {
   "cell_type": "code",
   "execution_count": 80,
   "id": "dadab73f",
   "metadata": {},
   "outputs": [
    {
     "data": {
      "text/plain": [
       "array([[9.480e+02, 2.000e+00, 4.800e+01, ..., 4.770e+02, 5.660e+02,\n",
       "        3.240e+02],\n",
       "       [1.002e+03, 3.000e+00, 6.100e+01, ..., 2.180e+02, 3.920e+02,\n",
       "        5.640e+02],\n",
       "       [9.610e+02, 3.000e+00, 4.500e+01, ..., 2.740e+02, 2.063e+03,\n",
       "        1.893e+03],\n",
       "       ...,\n",
       "       [1.104e+03, 2.000e+00, 5.300e+01, ..., 3.640e+02, 1.391e+03,\n",
       "        1.041e+03],\n",
       "       [4.650e+02, 0.000e+00, 1.400e+01, ..., 1.690e+02, 9.990e+02,\n",
       "        1.838e+03],\n",
       "       [1.045e+03, 3.000e+00, 4.500e+01, ..., 9.300e+02, 8.850e+02,\n",
       "        5.260e+02]])"
      ]
     },
     "execution_count": 80,
     "metadata": {},
     "output_type": "execute_result"
    }
   ],
   "source": [
    "X_new_chi2 = SelectKBest(chi2, k=12).fit_transform(X, y)\n",
    "X_new_chi2"
   ]
  },
  {
   "cell_type": "code",
   "execution_count": 81,
   "id": "1e1d39be",
   "metadata": {},
   "outputs": [
    {
     "name": "stdout",
     "output_type": "stream",
     "text": [
      "              precision    recall  f1-score   support\n",
      "\n",
      "           0       0.92      0.86      0.89       327\n",
      "           1       0.62      0.75      0.68       101\n",
      "\n",
      "    accuracy                           0.83       428\n",
      "   macro avg       0.77      0.80      0.78       428\n",
      "weighted avg       0.85      0.83      0.84       428\n",
      "\n"
     ]
    }
   ],
   "source": [
    "from sklearn.model_selection import train_test_split\n",
    "from sklearn.linear_model import LogisticRegression\n",
    "from sklearn.metrics import classification_report\n",
    "# División de los datos\n",
    "X_train, X_test, y_train, y_test = train_test_split(X_new_chi2, y, test_size=0.2, random_state=42)\n",
    "smote = SMOTE()\n",
    "\n",
    "X_train, y_train = smote.fit_resample(X_train, y_train)\n",
    "\n",
    "# Entrenamiento del modelo\n",
    "clf = LogisticRegression()\n",
    "clf.fit(X_train, y_train)\n",
    "# Predicción y evaluación\n",
    "print(classification_report(y_test,clf.predict(X_test)))"
   ]
  },
  {
   "cell_type": "markdown",
   "id": "07911c90",
   "metadata": {},
   "source": [
    "## LR + RELIEF + SMOTE"
   ]
  },
  {
   "cell_type": "code",
   "execution_count": 82,
   "id": "3019c726",
   "metadata": {},
   "outputs": [],
   "source": [
    "# Selección de atributos mediante RELIEF\n",
    "relief = ReliefF(n_features_to_select=12)\n",
    "X_new_relief = relief.fit_transform(X.values, y.values)"
   ]
  },
  {
   "cell_type": "code",
   "execution_count": 83,
   "id": "83bab747",
   "metadata": {},
   "outputs": [
    {
     "name": "stdout",
     "output_type": "stream",
     "text": [
      "              precision    recall  f1-score   support\n",
      "\n",
      "           0       0.93      0.87      0.90       327\n",
      "           1       0.65      0.79      0.71       101\n",
      "\n",
      "    accuracy                           0.85       428\n",
      "   macro avg       0.79      0.83      0.81       428\n",
      "weighted avg       0.86      0.85      0.86       428\n",
      "\n"
     ]
    }
   ],
   "source": [
    "from sklearn.model_selection import train_test_split\n",
    "from sklearn.linear_model import LogisticRegression\n",
    "from sklearn.metrics import classification_report\n",
    "# División de los datos\n",
    "X_train, X_test, y_train, y_test = train_test_split(X_new_relief, y, test_size=0.2, random_state=42)\n",
    "smote = SMOTE()\n",
    "\n",
    "X_train, y_train = smote.fit_resample(X_train, y_train)\n",
    "# Entrenamiento del modelo\n",
    "clf = LogisticRegression()\n",
    "#cross_val_score(clf, X_new_relief, y, cv=5)\n",
    "clf.fit(X_train, y_train)\n",
    "\n",
    "# Predicción y evaluación\n",
    "print(classification_report(y_test,clf.predict(X_test)))"
   ]
  },
  {
   "cell_type": "markdown",
   "id": "0ff7082e-a95d-43cf-a0ff-f4fec9cf8ee7",
   "metadata": {},
   "source": [
    "## Resultados y Conclusión"
   ]
  },
  {
   "cell_type": "markdown",
   "id": "484f8f5e-91ef-491f-a991-6440ee70189d",
   "metadata": {},
   "source": [
    "A continuación se incluye una tabla con los resultados de las pruebas:\n",
    "\n",
    "| Dataset         | k  | Acc. Chi^2 | Acc. RELIEF |\n",
    "|-----------------|----|------------|-------------|\n",
    "| Heart failure   | 6  | 0.84       | 0.84        |\n",
    "| Thyroid disease | 10 | 0.89       | 0.92        |\n",
    "| AIDS infection  | 12 | 0.83       | 0.85        |\n",
    "\n",
    "Como se puede notar, RELIEF es ligeramente superior a Chi² en la métrica de accuracy en 2 de los tres dataset, a excepción del primero donde tuvieron el mismo valor. Por lo tanto, la hipótesis queda descartada inicialmente. Los resultados fueron similares para ambos selectores de atributos, por lo que Chi² no es directamente más efectivo que hacer uso de RELIEF. Sin embargo, durante la ejecución de los experimentos notamos cierta demora al utilizar la implementación de RELIEF, que a pesar del pequeño tamaño de los datasets tomó varios segundos en calcular las features a ocupar en el entrenamiento, a diferencia de Chi² que lo hacía casi al instante. Por lo tanto, se puede argumentar a favor de que este último tiene un mejor rendimiento, que es lo esperable al ser mucho más simple. \n",
    "\n",
    "También es importante mencionar que el enfoque de Chi² en atributos de tipo categóricos se vio reflejado en el dataset de Thyroid disease, donde tuvo su mayor rendimiento. \n",
    "\n",
    "En conclusión, dados los resultados experimentales la hipótesis queda descartada. Se debe tener en consideración detalles sobre el problema para poder elegir uno de los selectores de atributos, ya que tienen enfoques diferentes."
   ]
  },
  {
   "cell_type": "code",
   "execution_count": null,
   "id": "f1a011f2-9b40-444c-842f-701ea9f5fd8a",
   "metadata": {},
   "outputs": [],
   "source": []
  }
 ],
 "metadata": {
  "kernelspec": {
   "display_name": "Python 3 (ipykernel)",
   "language": "python",
   "name": "python3"
  },
  "language_info": {
   "codemirror_mode": {
    "name": "ipython",
    "version": 3
   },
   "file_extension": ".py",
   "mimetype": "text/x-python",
   "name": "python",
   "nbconvert_exporter": "python",
   "pygments_lexer": "ipython3",
   "version": "3.10.12"
  }
 },
 "nbformat": 4,
 "nbformat_minor": 5
}
